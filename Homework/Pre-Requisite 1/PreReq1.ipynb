{
 "cells": [
  {
   "cell_type": "markdown",
   "id": "87ea0054",
   "metadata": {},
   "source": [
    "Min Je (John) Kim\n",
    "FA25 EE 102\n",
    "Pre-requisite #1: Vectors, projections, and linear algebra\n",
    "8/30/2025"
   ]
  },
  {
   "cell_type": "code",
   "execution_count": 6,
   "id": "ea0a42de",
   "metadata": {},
   "outputs": [
    {
     "name": "stdout",
     "output_type": "stream",
     "text": [
      "Problem 5 Part A : Check for Linear Independence of Vactors\n",
      "Rank: 2\n"
     ]
    }
   ],
   "source": [
    "import numpy as np\n",
    "\n",
    "\n",
    "\n",
    "# Problem 5 Part A : Check for Linear Independence of Vactors\n",
    "print(\"Problem 5 Part A : Check for Linear Independence of Vactors\")\n",
    "u = np.array([1,2,3])\n",
    "v = np.array([4,5,6])\n",
    "w = np.array([7,8,9])\n",
    "\n",
    "A = np.array([u,v,w])\n",
    "\n",
    "rank = np.linalg.matrix_rank(A)\n",
    "print(\"Rank:\", rank)\n",
    "\n",
    "\n",
    "# If the Rank is equal to the number of Variables/Vector Space Dimerntions, The Vectors are Linearly Independent because they can span the entire vector space with a combination of the 3 vectors."
   ]
  },
  {
   "cell_type": "code",
   "execution_count": 3,
   "id": "ab4976e7",
   "metadata": {},
   "outputs": [
    {
     "name": "stdout",
     "output_type": "stream",
     "text": [
      "Problem 5 Part B : Compute Orthogonal Projection\n",
      "X Axis Projection: [3. 0.]\n",
      "Y Axis Projection: [0. 4.]\n"
     ]
    }
   ],
   "source": [
    "import numpy as np\n",
    "\n",
    "\n",
    "\n",
    "# Problem 5 Part B : Compute Orthogonal Projection\n",
    "print(\"Problem 5 Part B : Compute Orthogonal Projection\")\n",
    "x = np.array([3,4])\n",
    "x_Axis_Unit = np.array([1,0])\n",
    "y_Axis_Unit = np.array([0,1])\n",
    "\n",
    "def OrthogonalProjection(Vector, Subspace, ReturnScalar = False, Print = True):\n",
    "    \"\"\"OrthogonalProjection(Vector, Subspace, Scalar = False, Print = True)\n",
    "\n",
    "    Args:\n",
    "        Vector (np.array): The Vector to Project onto the New Subspace\n",
    "        Subspace (np.array): The Subspace to be Projected on to\n",
    "        ReturnScalar (Boolean): If True, will output the scalar. If False, will output the Projected Vector\n",
    "        Print (Boolean)L If True, will print before Return\n",
    "\n",
    "    Returns:\n",
    "        _type_: Returns the Scalar or Projected Vector based on Arguments Input\n",
    "    \"\"\"\n",
    "\n",
    "    SubspaceMagnitude = np.linalg.norm(Subspace)\n",
    "    SubspaceNormScalar = SubspaceMagnitude**2\n",
    "    OrthVal = np.dot(Vector,Subspace)\n",
    "    Scalar = OrthVal/SubspaceNormScalar\n",
    "\n",
    "    if ReturnScalar:\n",
    "        Scalar = round(Scalar,4)\n",
    "        if Print:\n",
    "            print(Scalar)\n",
    "        return Scalar\n",
    "    \n",
    "    OrthProjection = np.multiply(Scalar,Subspace)\n",
    "\n",
    "    if Print:\n",
    "        print(OrthProjection)\n",
    "    return OrthProjection\n",
    "\n",
    "x_Axis_Projection = OrthogonalProjection(x, x_Axis_Unit, False, False)\n",
    "print('X Axis Projection:', x_Axis_Projection)\n",
    "y_Axis_Projection = OrthogonalProjection(x, y_Axis_Unit, False, False)\n",
    "print('Y Axis Projection:', y_Axis_Projection)"
   ]
  },
  {
   "cell_type": "code",
   "execution_count": 4,
   "id": "c2b629f1",
   "metadata": {},
   "outputs": [
    {
     "name": "stdout",
     "output_type": "stream",
     "text": [
      "Problem 5 Part C : Express x in the new Basis B = [[1,1],[1,-1]]\n",
      "x in terms of the new Basis B: <3.5, -0.5>\n"
     ]
    }
   ],
   "source": [
    "import numpy as np\n",
    "\n",
    "\n",
    "\n",
    "# Problem 5 Part C : Express x in the new Basis B = [[1,1],[1,-1]]\n",
    "print(\"Problem 5 Part C : Express x in the new Basis B = [[1,1],[1,-1]]\")\n",
    "\n",
    "def OrthogonalProjection(Vector, Subspace, ReturnScalar = False, Print = True):\n",
    "    \"\"\"OrthogonalProjection(Vector, Subspace, Scalar = False, Print = True)\n",
    "\n",
    "    Args:\n",
    "        Vector (np.array): The Vector to Project onto the New Subspace\n",
    "        Subspace (np.array): The Subspace to be Projected on to\n",
    "        ReturnScalar (Boolean): If True, will output the scalar. If False, will output the Projected Vector\n",
    "        Print (Boolean)L If True, will print before Return\n",
    "\n",
    "    Returns:\n",
    "        _type_: Returns the Scalar or Projected Vector based on Arguments Input\n",
    "    \"\"\"\n",
    "\n",
    "    SubspaceMagnitude = np.linalg.norm(Subspace)\n",
    "    SubspaceNormScalar = SubspaceMagnitude**2\n",
    "    OrthVal = np.dot(Vector,Subspace)\n",
    "    Scalar = OrthVal/SubspaceNormScalar\n",
    "\n",
    "    if ReturnScalar:\n",
    "        Scalar = round(Scalar,4)\n",
    "        if Print:\n",
    "            print(Scalar)\n",
    "        return Scalar\n",
    "    \n",
    "    OrthProjection = np.multiply(Scalar,Subspace)\n",
    "\n",
    "    if Print:\n",
    "        print(OrthProjection)\n",
    "    return OrthProjection\n",
    "\n",
    "B = [np.array([1, 1]), np.array([1, -1])]\n",
    "A1 = OrthogonalProjection(x, B[0], True, False)\n",
    "A2 = OrthogonalProjection(x, B[1], True, False)\n",
    "print(f\"x in terms of the new Basis B: <{A1}, {A2}>\")"
   ]
  }
 ],
 "metadata": {
  "kernelspec": {
   "display_name": "Python 3",
   "language": "python",
   "name": "python3"
  },
  "language_info": {
   "codemirror_mode": {
    "name": "ipython",
    "version": 3
   },
   "file_extension": ".py",
   "mimetype": "text/x-python",
   "name": "python",
   "nbconvert_exporter": "python",
   "pygments_lexer": "ipython3",
   "version": "3.13.7"
  }
 },
 "nbformat": 4,
 "nbformat_minor": 5
}
