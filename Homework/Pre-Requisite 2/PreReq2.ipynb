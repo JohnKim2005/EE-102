{
 "cells": [
  {
   "cell_type": "markdown",
   "id": "1ef6e3f4",
   "metadata": {},
   "source": [
    "Min Je (John) Kim\n",
    "FA25 EE 102\n",
    "Pre-requisite #2: Complex Numbers\n",
    "8/31/2025"
   ]
  },
  {
   "cell_type": "code",
   "execution_count": 29,
   "id": "37571800",
   "metadata": {},
   "outputs": [
    {
     "name": "stdout",
     "output_type": "stream",
     "text": [
      "Re(z_a z_b): -1.0\n",
      "a∙b: -1.0\n",
      "Is a∙b = Re(z_a z_b): True\n"
     ]
    }
   ],
   "source": [
    "# Problem 1 : Vectors and Complex Numbers\n",
    "\n",
    "import numpy as np\n",
    "\n",
    "a = np.array([2.0, -1.0])\n",
    "b = np.array([1.0, 3.0])\n",
    "\n",
    "za = a[0] + 1j*a[1]\n",
    "zb = b[0] + 1j*b[1]\n",
    "innerIm = np.conj(za) * zb\n",
    "realInnerIm = np.real(innerIm)\n",
    "dot = np.dot(a,b)\n",
    "\n",
    "print(\"Re(z_a z_b):\", realInnerIm)\n",
    "print(\"a\\u2219b:\", dot)\n",
    "\n",
    "print(\"Is a\\u2219b = Re(z_a z_b):\", realInnerIm==dot)"
   ]
  },
  {
   "cell_type": "code",
   "execution_count": 31,
   "id": "2c25e7f9",
   "metadata": {},
   "outputs": [
    {
     "name": "stdout",
     "output_type": "stream",
     "text": [
      "Real Coefficients\n",
      "alpha: 3.5\n",
      "beta: -0.5\n",
      "Reconstructed z_x: (3+4j)\n"
     ]
    }
   ],
   "source": [
    "# Problem 2 : Experss z_x in the Complex Basis\n",
    "\n",
    "import numpy as np\n",
    "\n",
    "x = np.array([3.0, 4.0])\n",
    "zx = x[0] + 1j*x[1]\n",
    "\n",
    "B = np.array([[1.0, 1.0],[1.0, -1.0]])\n",
    "\n",
    "alpha_beta = np.linalg.solve(B,x)\n",
    "alpha = alpha_beta[0]\n",
    "beta = alpha_beta[1]\n",
    "\n",
    "print(\"Real Coefficients\")\n",
    "print(\"alpha:\", alpha)\n",
    "print(\"beta:\", beta)\n",
    "\n",
    "# Optional: Verify\n",
    "b1 = 1 + 1j\n",
    "b2 = 1 - 1j\n",
    "zx_reconstructed = alpha * b1 + beta * b2\n",
    "print(\"Reconstructed z_x:\", zx_reconstructed)"
   ]
  }
 ],
 "metadata": {
  "kernelspec": {
   "display_name": "Python 3",
   "language": "python",
   "name": "python3"
  },
  "language_info": {
   "codemirror_mode": {
    "name": "ipython",
    "version": 3
   },
   "file_extension": ".py",
   "mimetype": "text/x-python",
   "name": "python",
   "nbconvert_exporter": "python",
   "pygments_lexer": "ipython3",
   "version": "3.13.7"
  }
 },
 "nbformat": 4,
 "nbformat_minor": 5
}
